{
  "nbformat": 4,
  "nbformat_minor": 0,
  "metadata": {
    "colab": {
      "provenance": []
    },
    "kernelspec": {
      "name": "python3",
      "display_name": "Python 3"
    },
    "language_info": {
      "name": "python"
    }
  },
  "cells": [
    {
      "cell_type": "code",
      "execution_count": 1,
      "metadata": {
        "colab": {
          "base_uri": "https://localhost:8080/"
        },
        "id": "dEmOyMHKyBkr",
        "outputId": "c08206b6-31e0-4979-e36d-800f17836523"
      },
      "outputs": [
        {
          "output_type": "stream",
          "name": "stdout",
          "text": [
            "Looking in indexes: https://pypi.org/simple, https://us-python.pkg.dev/colab-wheels/public/simple/\n",
            "Collecting qiskit\n",
            "  Downloading qiskit-0.38.0.tar.gz (13 kB)\n",
            "Collecting qiskit-terra==0.21.2\n",
            "  Downloading qiskit_terra-0.21.2-cp37-cp37m-manylinux_2_17_x86_64.manylinux2014_x86_64.whl (6.7 MB)\n",
            "\u001b[K     |████████████████████████████████| 6.7 MB 4.6 MB/s \n",
            "\u001b[?25hCollecting qiskit-aer==0.11.0\n",
            "  Downloading qiskit_aer-0.11.0-cp37-cp37m-manylinux_2_17_x86_64.manylinux2014_x86_64.whl (19.2 MB)\n",
            "\u001b[K     |████████████████████████████████| 19.2 MB 200 kB/s \n",
            "\u001b[?25hCollecting qiskit-ibmq-provider==0.19.2\n",
            "  Downloading qiskit_ibmq_provider-0.19.2-py3-none-any.whl (240 kB)\n",
            "\u001b[K     |████████████████████████████████| 240 kB 54.5 MB/s \n",
            "\u001b[?25hRequirement already satisfied: numpy>=1.16.3 in /usr/local/lib/python3.7/dist-packages (from qiskit-aer==0.11.0->qiskit) (1.21.6)\n",
            "Requirement already satisfied: scipy>=1.0 in /usr/local/lib/python3.7/dist-packages (from qiskit-aer==0.11.0->qiskit) (1.7.3)\n",
            "Collecting websockets>=10.0\n",
            "  Downloading websockets-10.3-cp37-cp37m-manylinux_2_5_x86_64.manylinux1_x86_64.manylinux_2_12_x86_64.manylinux2010_x86_64.whl (112 kB)\n",
            "\u001b[K     |████████████████████████████████| 112 kB 50.6 MB/s \n",
            "\u001b[?25hRequirement already satisfied: urllib3>=1.21.1 in /usr/local/lib/python3.7/dist-packages (from qiskit-ibmq-provider==0.19.2->qiskit) (1.24.3)\n",
            "Requirement already satisfied: requests>=2.19 in /usr/local/lib/python3.7/dist-packages (from qiskit-ibmq-provider==0.19.2->qiskit) (2.23.0)\n",
            "Collecting requests-ntlm>=1.1.0\n",
            "  Downloading requests_ntlm-1.1.0-py2.py3-none-any.whl (5.7 kB)\n",
            "Requirement already satisfied: python-dateutil>=2.8.0 in /usr/local/lib/python3.7/dist-packages (from qiskit-ibmq-provider==0.19.2->qiskit) (2.8.2)\n",
            "Collecting websocket-client>=1.0.1\n",
            "  Downloading websocket_client-1.4.1-py3-none-any.whl (55 kB)\n",
            "\u001b[K     |████████████████████████████████| 55 kB 2.8 MB/s \n",
            "\u001b[?25hCollecting ply>=3.10\n",
            "  Downloading ply-3.11-py2.py3-none-any.whl (49 kB)\n",
            "\u001b[K     |████████████████████████████████| 49 kB 5.1 MB/s \n",
            "\u001b[?25hRequirement already satisfied: dill>=0.3 in /usr/local/lib/python3.7/dist-packages (from qiskit-terra==0.21.2->qiskit) (0.3.5.1)\n",
            "Collecting shared-memory38\n",
            "  Downloading shared_memory38-0.1.2-cp37-cp37m-manylinux_2_5_x86_64.manylinux1_x86_64.whl (25 kB)\n",
            "Requirement already satisfied: typing-extensions in /usr/local/lib/python3.7/dist-packages (from qiskit-terra==0.21.2->qiskit) (4.1.1)\n",
            "Requirement already satisfied: sympy>=1.3 in /usr/local/lib/python3.7/dist-packages (from qiskit-terra==0.21.2->qiskit) (1.7.1)\n",
            "Collecting stevedore>=3.0.0\n",
            "  Downloading stevedore-3.5.0-py3-none-any.whl (49 kB)\n",
            "\u001b[K     |████████████████████████████████| 49 kB 2.9 MB/s \n",
            "\u001b[?25hRequirement already satisfied: psutil>=5 in /usr/local/lib/python3.7/dist-packages (from qiskit-terra==0.21.2->qiskit) (5.4.8)\n",
            "Collecting symengine>=0.9\n",
            "  Downloading symengine-0.9.2-cp37-cp37m-manylinux2010_x86_64.whl (37.5 MB)\n",
            "\u001b[K     |████████████████████████████████| 37.5 MB 1.3 MB/s \n",
            "\u001b[?25hCollecting retworkx>=0.11.0\n",
            "  Downloading retworkx-0.11.0-cp37-cp37m-manylinux_2_5_x86_64.manylinux1_x86_64.manylinux_2_12_x86_64.manylinux2010_x86_64.whl (1.6 MB)\n",
            "\u001b[K     |████████████████████████████████| 1.6 MB 44.5 MB/s \n",
            "\u001b[?25hCollecting tweedledum<2.0,>=1.1\n",
            "  Downloading tweedledum-1.1.1-cp37-cp37m-manylinux_2_12_x86_64.manylinux2010_x86_64.whl (943 kB)\n",
            "\u001b[K     |████████████████████████████████| 943 kB 52.9 MB/s \n",
            "\u001b[?25hRequirement already satisfied: six>=1.5 in /usr/local/lib/python3.7/dist-packages (from python-dateutil>=2.8.0->qiskit-ibmq-provider==0.19.2->qiskit) (1.15.0)\n",
            "Requirement already satisfied: chardet<4,>=3.0.2 in /usr/local/lib/python3.7/dist-packages (from requests>=2.19->qiskit-ibmq-provider==0.19.2->qiskit) (3.0.4)\n",
            "Requirement already satisfied: idna<3,>=2.5 in /usr/local/lib/python3.7/dist-packages (from requests>=2.19->qiskit-ibmq-provider==0.19.2->qiskit) (2.10)\n",
            "Requirement already satisfied: certifi>=2017.4.17 in /usr/local/lib/python3.7/dist-packages (from requests>=2.19->qiskit-ibmq-provider==0.19.2->qiskit) (2022.9.24)\n",
            "Collecting ntlm-auth>=1.0.2\n",
            "  Downloading ntlm_auth-1.5.0-py2.py3-none-any.whl (29 kB)\n",
            "Collecting cryptography>=1.3\n",
            "  Downloading cryptography-38.0.1-cp36-abi3-manylinux_2_24_x86_64.whl (4.0 MB)\n",
            "\u001b[K     |████████████████████████████████| 4.0 MB 40.1 MB/s \n",
            "\u001b[?25hRequirement already satisfied: cffi>=1.12 in /usr/local/lib/python3.7/dist-packages (from cryptography>=1.3->requests-ntlm>=1.1.0->qiskit-ibmq-provider==0.19.2->qiskit) (1.15.1)\n",
            "Requirement already satisfied: pycparser in /usr/local/lib/python3.7/dist-packages (from cffi>=1.12->cryptography>=1.3->requests-ntlm>=1.1.0->qiskit-ibmq-provider==0.19.2->qiskit) (2.21)\n",
            "Requirement already satisfied: importlib-metadata>=1.7.0 in /usr/local/lib/python3.7/dist-packages (from stevedore>=3.0.0->qiskit-terra==0.21.2->qiskit) (5.0.0)\n",
            "Collecting pbr!=2.1.0,>=2.0.0\n",
            "  Downloading pbr-5.10.0-py2.py3-none-any.whl (112 kB)\n",
            "\u001b[K     |████████████████████████████████| 112 kB 47.1 MB/s \n",
            "\u001b[?25hRequirement already satisfied: zipp>=0.5 in /usr/local/lib/python3.7/dist-packages (from importlib-metadata>=1.7.0->stevedore>=3.0.0->qiskit-terra==0.21.2->qiskit) (3.8.1)\n",
            "Requirement already satisfied: mpmath>=0.19 in /usr/local/lib/python3.7/dist-packages (from sympy>=1.3->qiskit-terra==0.21.2->qiskit) (1.2.1)\n",
            "Building wheels for collected packages: qiskit\n",
            "  Building wheel for qiskit (setup.py) ... \u001b[?25l\u001b[?25hdone\n",
            "  Created wheel for qiskit: filename=qiskit-0.38.0-py3-none-any.whl size=12147 sha256=1c3df8207bda6b59c2d031c621a264f086befcde2e522ce72534dec0ae3f2fb7\n",
            "  Stored in directory: /root/.cache/pip/wheels/0b/30/78/04c91b7e82655f191b8f6238b6e74af67f3cc618cfca429189\n",
            "Successfully built qiskit\n",
            "Installing collected packages: pbr, tweedledum, symengine, stevedore, shared-memory38, retworkx, ply, ntlm-auth, cryptography, websockets, websocket-client, requests-ntlm, qiskit-terra, qiskit-ibmq-provider, qiskit-aer, qiskit\n",
            "Successfully installed cryptography-38.0.1 ntlm-auth-1.5.0 pbr-5.10.0 ply-3.11 qiskit-0.38.0 qiskit-aer-0.11.0 qiskit-ibmq-provider-0.19.2 qiskit-terra-0.21.2 requests-ntlm-1.1.0 retworkx-0.11.0 shared-memory38-0.1.2 stevedore-3.5.0 symengine-0.9.2 tweedledum-1.1.1 websocket-client-1.4.1 websockets-10.3\n"
          ]
        }
      ],
      "source": [
        "!pip install qiskit"
      ]
    },
    {
      "cell_type": "code",
      "source": [
        "from qiskit import *"
      ],
      "metadata": {
        "id": "60FJBFKpyVCT"
      },
      "execution_count": 2,
      "outputs": []
    },
    {
      "cell_type": "code",
      "source": [
        "%matplotlib inline\n",
        "from qiskit.tools.visualization import plot_histogram"
      ],
      "metadata": {
        "id": "Be4G1PFxyXJd"
      },
      "execution_count": 3,
      "outputs": []
    },
    {
      "cell_type": "code",
      "source": [
        "secretNumber = '10101010100'"
      ],
      "metadata": {
        "id": "XRN6DkVXyaFH"
      },
      "execution_count": 4,
      "outputs": []
    },
    {
      "cell_type": "code",
      "source": [
        "circuit = QuantumCircuit(len(secretNumber)+1,len(secretNumber))"
      ],
      "metadata": {
        "id": "hKCpAjikydEp"
      },
      "execution_count": 5,
      "outputs": []
    },
    {
      "cell_type": "code",
      "source": [
        "circuit.h(range(len(secretNumber)))\n",
        "circuit.x(len(secretNumber))\n",
        "circuit.h(len(secretNumber))\n",
        "\n",
        "circuit.barrier()\n",
        "\n",
        "for index, one in enumerate(reversed(secretNumber)):\n",
        "    print(f\"index{index} is {one}\")\n",
        "    if one == \"1\":\n",
        "        circuit.cx(index,len(secretNumber))\n",
        "\n",
        "circuit.barrier()\n",
        "\n",
        "circuit.h(range(len(secretNumber)))\n",
        "\n",
        "circuit.barrier()\n",
        "\n",
        "circuit.measure(range(len(secretNumber)),range(len(secretNumber)))"
      ],
      "metadata": {
        "colab": {
          "base_uri": "https://localhost:8080/"
        },
        "id": "rwdM74sWyf7K",
        "outputId": "669859bd-2be0-4daf-bbea-a6db6439fe89"
      },
      "execution_count": 6,
      "outputs": [
        {
          "output_type": "stream",
          "name": "stdout",
          "text": [
            "index0 is 0\n",
            "index1 is 0\n",
            "index2 is 1\n",
            "index3 is 0\n",
            "index4 is 1\n",
            "index5 is 0\n",
            "index6 is 1\n",
            "index7 is 0\n",
            "index8 is 1\n",
            "index9 is 0\n",
            "index10 is 1\n"
          ]
        },
        {
          "output_type": "execute_result",
          "data": {
            "text/plain": [
              "<qiskit.circuit.instructionset.InstructionSet at 0x7ff28ada8090>"
            ]
          },
          "metadata": {},
          "execution_count": 6
        }
      ]
    },
    {
      "cell_type": "code",
      "source": [
        "circuit.draw()"
      ],
      "metadata": {
        "colab": {
          "base_uri": "https://localhost:8080/",
          "height": 848
        },
        "id": "405P5NpnykU_",
        "outputId": "e65b5579-d0d9-4178-a6b4-1c4e5a625ab2"
      },
      "execution_count": 7,
      "outputs": [
        {
          "output_type": "execute_result",
          "data": {
            "text/plain": [
              "      ┌───┐      ░                           ░ ┌───┐ ░ ┌─┐                     »\n",
              " q_0: ┤ H ├──────░───────────────────────────░─┤ H ├─░─┤M├─────────────────────»\n",
              "      ├───┤      ░                           ░ ├───┤ ░ └╥┘┌─┐                  »\n",
              " q_1: ┤ H ├──────░───────────────────────────░─┤ H ├─░──╫─┤M├──────────────────»\n",
              "      ├───┤      ░                           ░ ├───┤ ░  ║ └╥┘┌─┐               »\n",
              " q_2: ┤ H ├──────░───■───────────────────────░─┤ H ├─░──╫──╫─┤M├───────────────»\n",
              "      ├───┤      ░   │                       ░ ├───┤ ░  ║  ║ └╥┘┌─┐            »\n",
              " q_3: ┤ H ├──────░───┼───────────────────────░─┤ H ├─░──╫──╫──╫─┤M├────────────»\n",
              "      ├───┤      ░   │                       ░ ├───┤ ░  ║  ║  ║ └╥┘┌─┐         »\n",
              " q_4: ┤ H ├──────░───┼────■──────────────────░─┤ H ├─░──╫──╫──╫──╫─┤M├─────────»\n",
              "      ├───┤      ░   │    │                  ░ ├───┤ ░  ║  ║  ║  ║ └╥┘┌─┐      »\n",
              " q_5: ┤ H ├──────░───┼────┼──────────────────░─┤ H ├─░──╫──╫──╫──╫──╫─┤M├──────»\n",
              "      ├───┤      ░   │    │                  ░ ├───┤ ░  ║  ║  ║  ║  ║ └╥┘┌─┐   »\n",
              " q_6: ┤ H ├──────░───┼────┼────■─────────────░─┤ H ├─░──╫──╫──╫──╫──╫──╫─┤M├───»\n",
              "      ├───┤      ░   │    │    │             ░ ├───┤ ░  ║  ║  ║  ║  ║  ║ └╥┘┌─┐»\n",
              " q_7: ┤ H ├──────░───┼────┼────┼─────────────░─┤ H ├─░──╫──╫──╫──╫──╫──╫──╫─┤M├»\n",
              "      ├───┤      ░   │    │    │             ░ ├───┤ ░  ║  ║  ║  ║  ║  ║  ║ └╥┘»\n",
              " q_8: ┤ H ├──────░───┼────┼────┼────■────────░─┤ H ├─░──╫──╫──╫──╫──╫──╫──╫──╫─»\n",
              "      ├───┤      ░   │    │    │    │        ░ ├───┤ ░  ║  ║  ║  ║  ║  ║  ║  ║ »\n",
              " q_9: ┤ H ├──────░───┼────┼────┼────┼────────░─┤ H ├─░──╫──╫──╫──╫──╫──╫──╫──╫─»\n",
              "      ├───┤      ░   │    │    │    │        ░ ├───┤ ░  ║  ║  ║  ║  ║  ║  ║  ║ »\n",
              "q_10: ┤ H ├──────░───┼────┼────┼────┼────■───░─┤ H ├─░──╫──╫──╫──╫──╫──╫──╫──╫─»\n",
              "      ├───┤┌───┐ ░ ┌─┴─┐┌─┴─┐┌─┴─┐┌─┴─┐┌─┴─┐ ░ └───┘ ░  ║  ║  ║  ║  ║  ║  ║  ║ »\n",
              "q_11: ┤ X ├┤ H ├─░─┤ X ├┤ X ├┤ X ├┤ X ├┤ X ├─░───────░──╫──╫──╫──╫──╫──╫──╫──╫─»\n",
              "      └───┘└───┘ ░ └───┘└───┘└───┘└───┘└───┘ ░       ░  ║  ║  ║  ║  ║  ║  ║  ║ »\n",
              "c: 11/══════════════════════════════════════════════════╩══╩══╩══╩══╩══╩══╩══╩═»\n",
              "                                                        0  1  2  3  4  5  6  7 »\n",
              "«               \n",
              "« q_0: ─────────\n",
              "«               \n",
              "« q_1: ─────────\n",
              "«               \n",
              "« q_2: ─────────\n",
              "«               \n",
              "« q_3: ─────────\n",
              "«               \n",
              "« q_4: ─────────\n",
              "«               \n",
              "« q_5: ─────────\n",
              "«               \n",
              "« q_6: ─────────\n",
              "«               \n",
              "« q_7: ─────────\n",
              "«      ┌─┐      \n",
              "« q_8: ┤M├──────\n",
              "«      └╥┘┌─┐   \n",
              "« q_9: ─╫─┤M├───\n",
              "«       ║ └╥┘┌─┐\n",
              "«q_10: ─╫──╫─┤M├\n",
              "«       ║  ║ └╥┘\n",
              "«q_11: ─╫──╫──╫─\n",
              "«       ║  ║  ║ \n",
              "«c: 11/═╩══╩══╩═\n",
              "«       8  9  10"
            ],
            "text/html": [
              "<pre style=\"word-wrap: normal;white-space: pre;background: #fff0;line-height: 1.1;font-family: &quot;Courier New&quot;,Courier,monospace\">      ┌───┐      ░                           ░ ┌───┐ ░ ┌─┐                     »\n",
              " q_0: ┤ H ├──────░───────────────────────────░─┤ H ├─░─┤M├─────────────────────»\n",
              "      ├───┤      ░                           ░ ├───┤ ░ └╥┘┌─┐                  »\n",
              " q_1: ┤ H ├──────░───────────────────────────░─┤ H ├─░──╫─┤M├──────────────────»\n",
              "      ├───┤      ░                           ░ ├───┤ ░  ║ └╥┘┌─┐               »\n",
              " q_2: ┤ H ├──────░───■───────────────────────░─┤ H ├─░──╫──╫─┤M├───────────────»\n",
              "      ├───┤      ░   │                       ░ ├───┤ ░  ║  ║ └╥┘┌─┐            »\n",
              " q_3: ┤ H ├──────░───┼───────────────────────░─┤ H ├─░──╫──╫──╫─┤M├────────────»\n",
              "      ├───┤      ░   │                       ░ ├───┤ ░  ║  ║  ║ └╥┘┌─┐         »\n",
              " q_4: ┤ H ├──────░───┼────■──────────────────░─┤ H ├─░──╫──╫──╫──╫─┤M├─────────»\n",
              "      ├───┤      ░   │    │                  ░ ├───┤ ░  ║  ║  ║  ║ └╥┘┌─┐      »\n",
              " q_5: ┤ H ├──────░───┼────┼──────────────────░─┤ H ├─░──╫──╫──╫──╫──╫─┤M├──────»\n",
              "      ├───┤      ░   │    │                  ░ ├───┤ ░  ║  ║  ║  ║  ║ └╥┘┌─┐   »\n",
              " q_6: ┤ H ├──────░───┼────┼────■─────────────░─┤ H ├─░──╫──╫──╫──╫──╫──╫─┤M├───»\n",
              "      ├───┤      ░   │    │    │             ░ ├───┤ ░  ║  ║  ║  ║  ║  ║ └╥┘┌─┐»\n",
              " q_7: ┤ H ├──────░───┼────┼────┼─────────────░─┤ H ├─░──╫──╫──╫──╫──╫──╫──╫─┤M├»\n",
              "      ├───┤      ░   │    │    │             ░ ├───┤ ░  ║  ║  ║  ║  ║  ║  ║ └╥┘»\n",
              " q_8: ┤ H ├──────░───┼────┼────┼────■────────░─┤ H ├─░──╫──╫──╫──╫──╫──╫──╫──╫─»\n",
              "      ├───┤      ░   │    │    │    │        ░ ├───┤ ░  ║  ║  ║  ║  ║  ║  ║  ║ »\n",
              " q_9: ┤ H ├──────░───┼────┼────┼────┼────────░─┤ H ├─░──╫──╫──╫──╫──╫──╫──╫──╫─»\n",
              "      ├───┤      ░   │    │    │    │        ░ ├───┤ ░  ║  ║  ║  ║  ║  ║  ║  ║ »\n",
              "q_10: ┤ H ├──────░───┼────┼────┼────┼────■───░─┤ H ├─░──╫──╫──╫──╫──╫──╫──╫──╫─»\n",
              "      ├───┤┌───┐ ░ ┌─┴─┐┌─┴─┐┌─┴─┐┌─┴─┐┌─┴─┐ ░ └───┘ ░  ║  ║  ║  ║  ║  ║  ║  ║ »\n",
              "q_11: ┤ X ├┤ H ├─░─┤ X ├┤ X ├┤ X ├┤ X ├┤ X ├─░───────░──╫──╫──╫──╫──╫──╫──╫──╫─»\n",
              "      └───┘└───┘ ░ └───┘└───┘└───┘└───┘└───┘ ░       ░  ║  ║  ║  ║  ║  ║  ║  ║ »\n",
              "c: 11/══════════════════════════════════════════════════╩══╩══╩══╩══╩══╩══╩══╩═»\n",
              "                                                        0  1  2  3  4  5  6  7 »\n",
              "«               \n",
              "« q_0: ─────────\n",
              "«               \n",
              "« q_1: ─────────\n",
              "«               \n",
              "« q_2: ─────────\n",
              "«               \n",
              "« q_3: ─────────\n",
              "«               \n",
              "« q_4: ─────────\n",
              "«               \n",
              "« q_5: ─────────\n",
              "«               \n",
              "« q_6: ─────────\n",
              "«               \n",
              "« q_7: ─────────\n",
              "«      ┌─┐      \n",
              "« q_8: ┤M├──────\n",
              "«      └╥┘┌─┐   \n",
              "« q_9: ─╫─┤M├───\n",
              "«       ║ └╥┘┌─┐\n",
              "«q_10: ─╫──╫─┤M├\n",
              "«       ║  ║ └╥┘\n",
              "«q_11: ─╫──╫──╫─\n",
              "«       ║  ║  ║ \n",
              "«c: 11/═╩══╩══╩═\n",
              "«       8  9  10</pre>"
            ]
          },
          "metadata": {},
          "execution_count": 7
        }
      ]
    },
    {
      "cell_type": "code",
      "source": [
        "simulator = Aer.get_backend('qasm_simulator')\n",
        "result = execute(circuit, backend=simulator, shots=1).result()\n",
        "counts = result.get_counts()\n",
        "print(counts)"
      ],
      "metadata": {
        "colab": {
          "base_uri": "https://localhost:8080/"
        },
        "id": "uXRwc5eByo5-",
        "outputId": "3beff6c4-c2b5-49d9-fe6d-a3db0cbcce45"
      },
      "execution_count": 8,
      "outputs": [
        {
          "output_type": "stream",
          "name": "stdout",
          "text": [
            "{'10101010100': 1}\n"
          ]
        }
      ]
    },
    {
      "cell_type": "code",
      "source": [
        "plot_histogram([counts])"
      ],
      "metadata": {
        "id": "W9qX2j-Syzan",
        "outputId": "718b76f5-e050-44bf-c0e5-f801c75c85f6",
        "colab": {
          "base_uri": "https://localhost:8080/",
          "height": 406
        }
      },
      "execution_count": 9,
      "outputs": [
        {
          "output_type": "execute_result",
          "data": {
            "text/plain": [
              "<Figure size 504x360 with 1 Axes>"
            ],
            "image/png": "[encoded data removed]"
          },
          "metadata": {},
          "execution_count": 9
        }
      ]
    }
  ]
}